{
 "cells": [
  {
   "cell_type": "code",
   "id": "initial_id",
   "metadata": {
    "collapsed": true,
    "ExecuteTime": {
     "end_time": "2024-12-22T02:18:09.946172Z",
     "start_time": "2024-12-22T02:18:09.935183Z"
    }
   },
   "source": "import pandas as pd",
   "outputs": [],
   "execution_count": 63
  },
  {
   "metadata": {
    "ExecuteTime": {
     "end_time": "2024-12-22T02:18:09.994709Z",
     "start_time": "2024-12-22T02:18:09.971613Z"
    }
   },
   "cell_type": "code",
   "source": [
    "df = pd.read_csv(\"data/salmonella_verification_testing.csv\")\n",
    "df[\"Category\"].fillna(1.0, inplace=True)\n",
    "df.info()"
   ],
   "id": "e2f111fcc4e58590",
   "outputs": [
    {
     "name": "stdout",
     "output_type": "stream",
     "text": [
      "<class 'pandas.core.frame.DataFrame'>\n",
      "RangeIndex: 862 entries, 0 to 861\n",
      "Data columns (total 7 columns):\n",
      " #   Column                Non-Null Count  Dtype  \n",
      "---  ------                --------------  -----  \n",
      " 0   Establishment Number  862 non-null    object \n",
      " 1   Establishment Name    862 non-null    object \n",
      " 2   City                  862 non-null    object \n",
      " 3   State                 862 non-null    object \n",
      " 4   District Number       862 non-null    int64  \n",
      " 5   Product Class         862 non-null    object \n",
      " 6   Category              862 non-null    float64\n",
      "dtypes: float64(1), int64(1), object(5)\n",
      "memory usage: 47.3+ KB\n"
     ]
    }
   ],
   "execution_count": 64
  },
  {
   "metadata": {
    "ExecuteTime": {
     "end_time": "2024-12-22T02:18:10.116165Z",
     "start_time": "2024-12-22T02:18:10.103090Z"
    }
   },
   "cell_type": "code",
   "source": "df[\"Category\"].value_counts()",
   "id": "9e9aa4f9de3bd0f",
   "outputs": [
    {
     "data": {
      "text/plain": [
       "Category\n",
       "1.0    600\n",
       "2.0    163\n",
       "3.0     99\n",
       "Name: count, dtype: int64"
      ]
     },
     "execution_count": 65,
     "metadata": {},
     "output_type": "execute_result"
    }
   ],
   "execution_count": 65
  },
  {
   "metadata": {
    "ExecuteTime": {
     "end_time": "2024-12-22T02:18:10.285958Z",
     "start_time": "2024-12-22T02:18:10.231672Z"
    }
   },
   "cell_type": "code",
   "source": "df[\"Product Class\"].value_counts()",
   "id": "aba301bcfd642bce",
   "outputs": [
    {
     "data": {
      "text/plain": [
       "Product Class\n",
       "Chicken Parts              495\n",
       "Young Chicken Carcasses    207\n",
       "Comminuted Chicken          73\n",
       "Comminuted Turkey           46\n",
       "Young Turkey Carcasses      41\n",
       "Name: count, dtype: int64"
      ]
     },
     "execution_count": 66,
     "metadata": {},
     "output_type": "execute_result"
    }
   ],
   "execution_count": 66
  },
  {
   "metadata": {
    "ExecuteTime": {
     "end_time": "2024-12-22T02:18:10.434951Z",
     "start_time": "2024-12-22T02:18:10.426137Z"
    }
   },
   "cell_type": "code",
   "source": [
    "print(\"Most contaminated establishment:\")\n",
    "print(df[\"Establishment Name\"].value_counts().head(1))"
   ],
   "id": "60169706888d905c",
   "outputs": [
    {
     "name": "stdout",
     "output_type": "stream",
     "text": [
      "Most contaminated establishment:\n",
      "Establishment Name\n",
      "Pilgrim's Pride Corporation    50\n",
      "Name: count, dtype: int64\n"
     ]
    }
   ],
   "execution_count": 67
  },
  {
   "metadata": {
    "ExecuteTime": {
     "end_time": "2024-12-22T02:18:10.661390Z",
     "start_time": "2024-12-22T02:18:10.627823Z"
    }
   },
   "cell_type": "code",
   "source": "df[df[\"Establishment Name\"] == \"Pilgrim's Pride Corporation\"].value_counts()",
   "id": "ec16782113202682",
   "outputs": [
    {
     "data": {
      "text/plain": [
       "Establishment Number  Establishment Name           City            State  District Number  Product Class            Category\n",
       "M17980+P17980         Pilgrim's Pride Corporation  Sumter          SC     85               Chicken Parts            1.0         1\n",
       "P5787                 Pilgrim's Pride Corporation  Natchitoches    LA     40               Chicken Parts            1.0         1\n",
       "P218                  Pilgrim's Pride Corporation  Lufkin          TX     40               Young Chicken Carcasses  2.0         1\n",
       "P2632                 Pilgrim's Pride Corporation  Live Oak        FL     85               Chicken Parts            1.0         1\n",
       "                                                                                           Comminuted Chicken       1.0         1\n",
       "                                                                                           Young Chicken Carcasses  1.0         1\n",
       "P40                   Pilgrim's Pride Corporation  Ellijay         GA     85               Chicken Parts            1.0         1\n",
       "                                                                                           Young Chicken Carcasses  1.0         1\n",
       "P476                  Pilgrim's Pride Corporation  Carrollton      GA     85               Chicken Parts            2.0         1\n",
       "                                                                                           Young Chicken Carcasses  1.0         1\n",
       "P529+V529             Pilgrim's Pride Corporation  Arcadia         WI     25               Chicken Parts            1.0         1\n",
       "                                                                                           Young Chicken Carcasses  1.0         1\n",
       "P5787                 Pilgrim's Pride Corporation  Natchitoches    LA     40               Young Chicken Carcasses  1.0         1\n",
       "M17980+P17980         Pilgrim's Pride Corporation  Sumter          SC     85               Young Chicken Carcasses  2.0         1\n",
       "P6638                 Pilgrim's Pride Corporation  Enterprise      AL     90               Chicken Parts            2.0         1\n",
       "                                                                                           Young Chicken Carcasses  2.0         1\n",
       "P6719+V6719           Pilgrim's Pride Corporation  Chattanooga     TN     90               Chicken Parts            1.0         1\n",
       "P705                  Pilgrim's Pride Corporation  De Queen        AR     35               Chicken Parts            1.0         1\n",
       "                                                                                           Young Chicken Carcasses  1.0         1\n",
       "P7091                 Pilgrim's Pride Corporation  Mount Pleasant  TX     40               Chicken Parts            1.0         1\n",
       "                                                                                           Young Chicken Carcasses  2.0         1\n",
       "P843                  Pilgrim's Pride Corporation  Marshville      NC     80               Chicken Parts            1.0         1\n",
       "                                                                                           Young Chicken Carcasses  1.0         1\n",
       "P855                  Pilgrim's Pride Corporation  Athens          GA     85               Young Chicken Carcasses  2.0         1\n",
       "P218                  Pilgrim's Pride Corporation  Lufkin          TX     40               Chicken Parts            1.0         1\n",
       "P206+V206             Pilgrim's Pride Corporation  Nacogdoches     TX     40               Young Chicken Carcasses  1.0         1\n",
       "                                                                                           Chicken Parts            1.0         1\n",
       "P192                  Pilgrim's Pride Corporation  Guntersville    AL     90               Young Chicken Carcasses  1.0         1\n",
       "M322A+P322            Pilgrim's Pride Corporation  Cold Spring     MN     25               Chicken Parts            1.0         1\n",
       "                                                                                           Young Chicken Carcasses  1.0         1\n",
       "M56+P56               Pilgrim's Pride Corporation  Timberville     VA     80               Chicken Parts            1.0         1\n",
       "                                                                                           Young Chicken Carcasses  1.0         1\n",
       "M7091A+P7091A         Pilgrim's Pride Corporation  Mount Pleasant  TX     40               Chicken Parts            2.0         1\n",
       "M7424+P184            Pilgrim's Pride Corporation  Elberton        GA     85               Chicken Parts            1.0         1\n",
       "M810+P810             Pilgrim's Pride Corporation  Moorefield      WV     80               Chicken Parts            1.0         1\n",
       "                                                                                           Young Chicken Carcasses  1.0         1\n",
       "P1272                 Pilgrim's Pride Corporation  Douglas         GA     85               Chicken Parts            1.0         1\n",
       "                                                                                           Young Chicken Carcasses  1.0         1\n",
       "P1284                 Pilgrim's Pride Corporation  Canton          GA     85               Chicken Parts            1.0         1\n",
       "                                                                                           Young Chicken Carcasses  2.0         1\n",
       "P1353                 Pilgrim's Pride Corporation  Chattanooga     TN     90               Chicken Parts            1.0         1\n",
       "                                                                                           Young Chicken Carcasses  2.0         1\n",
       "P17340                Pilgrim's Pride Corporation  Hickory         KY     90               Chicken Parts            2.0         1\n",
       "                                                                                           Young Chicken Carcasses  1.0         1\n",
       "P17500                Pilgrim's Pride Corporation  Russellville    AL     90               Chicken Parts            1.0         1\n",
       "                                                                                           Young Chicken Carcasses  2.0         1\n",
       "P177                  Pilgrim's Pride Corporation  Gainesville     GA     85               Chicken Parts            1.0         1\n",
       "                                                                                           Young Chicken Carcasses  1.0         1\n",
       "P192                  Pilgrim's Pride Corporation  Guntersville    AL     90               Chicken Parts            1.0         1\n",
       "P855D                 Pilgrim's Pride Corporation  Athens          GA     85               Chicken Parts            2.0         1\n",
       "Name: count, dtype: int64"
      ]
     },
     "execution_count": 68,
     "metadata": {},
     "output_type": "execute_result"
    }
   ],
   "execution_count": 68
  },
  {
   "metadata": {
    "ExecuteTime": {
     "end_time": "2024-12-22T02:18:10.964860Z",
     "start_time": "2024-12-22T02:18:10.949652Z"
    }
   },
   "cell_type": "code",
   "source": [
    "print(\"5 most reported states:\")\n",
    "print(df[\"State\"].value_counts().head())"
   ],
   "id": "17727d625f99446b",
   "outputs": [
    {
     "name": "stdout",
     "output_type": "stream",
     "text": [
      "5 most reported states:\n",
      "State\n",
      "CA    101\n",
      "GA     73\n",
      "TX     67\n",
      "AR     56\n",
      "AL     46\n",
      "Name: count, dtype: int64\n"
     ]
    }
   ],
   "execution_count": 69
  },
  {
   "metadata": {
    "ExecuteTime": {
     "end_time": "2024-12-22T02:18:11.065059Z",
     "start_time": "2024-12-22T02:18:11.058975Z"
    }
   },
   "cell_type": "code",
   "source": [
    "print(\"Most reported cities:\")\n",
    "print(df[\"City\"].value_counts().head(10))"
   ],
   "id": "c638753588f6ad6a",
   "outputs": [
    {
     "name": "stdout",
     "output_type": "stream",
     "text": [
      "Most reported cities:\n",
      "City\n",
      "Chicago        18\n",
      "Gainesville    14\n",
      "Los Angeles    13\n",
      "Vernon          9\n",
      "Albertville     9\n",
      "Springdale      9\n",
      "Houston         8\n",
      "Canton          6\n",
      "Monroe          6\n",
      "Carthage        6\n",
      "Name: count, dtype: int64\n"
     ]
    }
   ],
   "execution_count": 70
  },
  {
   "metadata": {
    "ExecuteTime": {
     "end_time": "2024-12-22T02:18:11.256824Z",
     "start_time": "2024-12-22T02:18:11.242203Z"
    }
   },
   "cell_type": "code",
   "source": "df[df[\"State\"] == \"AZ\"]",
   "id": "2c125d40c75f934a",
   "outputs": [
    {
     "data": {
      "text/plain": [
       "     Establishment Number          Establishment Name     City State  \\\n",
       "260         M19194+P19194              US Foods, Inc.  Phoenix    AZ   \n",
       "333         M33885+P31851  Chee Foo International Inc  Phoenix    AZ   \n",
       "472     M6239+P6239+V6239      Shamrock Foods Company  Phoenix    AZ   \n",
       "721  M20204+P20204+V20204               Denmark Foods   Peoria    AZ   \n",
       "\n",
       "     District Number       Product Class  Category  \n",
       "260                5       Chicken Parts       1.0  \n",
       "333                5       Chicken Parts       2.0  \n",
       "472                5       Chicken Parts       1.0  \n",
       "721                5  Comminuted Chicken       1.0  "
      ],
      "text/html": [
       "<div>\n",
       "<style scoped>\n",
       "    .dataframe tbody tr th:only-of-type {\n",
       "        vertical-align: middle;\n",
       "    }\n",
       "\n",
       "    .dataframe tbody tr th {\n",
       "        vertical-align: top;\n",
       "    }\n",
       "\n",
       "    .dataframe thead th {\n",
       "        text-align: right;\n",
       "    }\n",
       "</style>\n",
       "<table border=\"1\" class=\"dataframe\">\n",
       "  <thead>\n",
       "    <tr style=\"text-align: right;\">\n",
       "      <th></th>\n",
       "      <th>Establishment Number</th>\n",
       "      <th>Establishment Name</th>\n",
       "      <th>City</th>\n",
       "      <th>State</th>\n",
       "      <th>District Number</th>\n",
       "      <th>Product Class</th>\n",
       "      <th>Category</th>\n",
       "    </tr>\n",
       "  </thead>\n",
       "  <tbody>\n",
       "    <tr>\n",
       "      <th>260</th>\n",
       "      <td>M19194+P19194</td>\n",
       "      <td>US Foods, Inc.</td>\n",
       "      <td>Phoenix</td>\n",
       "      <td>AZ</td>\n",
       "      <td>5</td>\n",
       "      <td>Chicken Parts</td>\n",
       "      <td>1.0</td>\n",
       "    </tr>\n",
       "    <tr>\n",
       "      <th>333</th>\n",
       "      <td>M33885+P31851</td>\n",
       "      <td>Chee Foo International Inc</td>\n",
       "      <td>Phoenix</td>\n",
       "      <td>AZ</td>\n",
       "      <td>5</td>\n",
       "      <td>Chicken Parts</td>\n",
       "      <td>2.0</td>\n",
       "    </tr>\n",
       "    <tr>\n",
       "      <th>472</th>\n",
       "      <td>M6239+P6239+V6239</td>\n",
       "      <td>Shamrock Foods Company</td>\n",
       "      <td>Phoenix</td>\n",
       "      <td>AZ</td>\n",
       "      <td>5</td>\n",
       "      <td>Chicken Parts</td>\n",
       "      <td>1.0</td>\n",
       "    </tr>\n",
       "    <tr>\n",
       "      <th>721</th>\n",
       "      <td>M20204+P20204+V20204</td>\n",
       "      <td>Denmark Foods</td>\n",
       "      <td>Peoria</td>\n",
       "      <td>AZ</td>\n",
       "      <td>5</td>\n",
       "      <td>Comminuted Chicken</td>\n",
       "      <td>1.0</td>\n",
       "    </tr>\n",
       "  </tbody>\n",
       "</table>\n",
       "</div>"
      ]
     },
     "execution_count": 71,
     "metadata": {},
     "output_type": "execute_result"
    }
   ],
   "execution_count": 71
  },
  {
   "metadata": {
    "ExecuteTime": {
     "end_time": "2024-12-22T02:18:11.495136Z",
     "start_time": "2024-12-22T02:18:11.435656Z"
    }
   },
   "cell_type": "code",
   "source": "df[df[\"Category\"] == 3.0].groupby(\"State\").value_counts()",
   "id": "35b323916164c141",
   "outputs": [
    {
     "data": {
      "text/plain": [
       "State  Establishment Number  Establishment Name                City          District Number  Product Class            Category\n",
       "AL     P1307                 Mar-Jac Poultry-AL                Jasper        90               Young Chicken Carcasses  3.0         1\n",
       "       P20699A               Alatrade Foods, Inc.              Boaz          90               Chicken Parts            3.0         1\n",
       "AR     P481                  Tyson Foods, Inc.                 Springdale    35               Young Chicken Carcasses  3.0         1\n",
       "       P13584+V13584         George's Further Processing       Springdale    35               Chicken Parts            3.0         1\n",
       "       M5842+P5842+V5842     Tyson Foods, Inc.                 Springdale    35               Young Chicken Carcasses  3.0         1\n",
       "                                                                                                                                  ..\n",
       "VT     M46498+P46498         Westminster Meat Packing, Inc.    Westminster   60               Young Chicken Carcasses  3.0         1\n",
       "WA     P6164A                Foster Poultry Farms, LLC         Kelso         15               Chicken Parts            3.0         1\n",
       "       M6056A+P6056A         Schenk Packing Company Warehouse  Mount Vernon  15               Comminuted Chicken       3.0         1\n",
       "WI     M1759+P1759           Fortune Wisconsin LLC             Green Bay     25               Chicken Parts            3.0         1\n",
       "       M45525+P45525+V45525  Pine Creek Processing LLC         Ridgeland     25               Young Chicken Carcasses  3.0         1\n",
       "Name: count, Length: 99, dtype: int64"
      ]
     },
     "execution_count": 72,
     "metadata": {},
     "output_type": "execute_result"
    }
   ],
   "execution_count": 72
  },
  {
   "metadata": {
    "ExecuteTime": {
     "end_time": "2024-12-22T02:18:11.628435Z",
     "start_time": "2024-12-22T02:18:11.624224Z"
    }
   },
   "cell_type": "code",
   "source": "",
   "id": "1b14a4281e6e768f",
   "outputs": [],
   "execution_count": null
  }
 ],
 "metadata": {
  "kernelspec": {
   "display_name": "Python 3",
   "language": "python",
   "name": "python3"
  },
  "language_info": {
   "codemirror_mode": {
    "name": "ipython",
    "version": 2
   },
   "file_extension": ".py",
   "mimetype": "text/x-python",
   "name": "python",
   "nbconvert_exporter": "python",
   "pygments_lexer": "ipython2",
   "version": "2.7.6"
  }
 },
 "nbformat": 4,
 "nbformat_minor": 5
}
